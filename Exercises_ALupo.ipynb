{
 "cells": [
  {
   "cell_type": "markdown",
   "metadata": {},
   "source": [
    "## Exercises\n",
    "\n",
    "This will be a notebook for you to work through the exercises during the workshop. Feel free to work on these at whatever pace you feel works for you, but I encourage you to work together! Edit the title of this notebook with your name because I will ask you to upload your final notebook to our shared github repository at the end of this workshop.\n",
    "\n",
    "Feel free to google the documentation for numpy, matplotlib, etc.\n",
    "\n",
    "Don't forget to start by importing any libraries you need."
   ]
  },
  {
   "cell_type": "code",
   "execution_count": 20,
   "metadata": {},
   "outputs": [],
   "source": [
    "# import your libraries here\n",
    "import numpy as np\n",
    "import astropy\n",
    "import matplotlib.pyplot as plt\n",
    "from scipy import integrate"
   ]
  },
  {
   "cell_type": "markdown",
   "metadata": {},
   "source": [
    "### Day 1\n",
    "\n",
    "#### Exercise 1\n",
    "\n",
    "   A. Create an array with 10 evenly spaced values in logspace ranging from 0.1 to 10,000.\n",
    "\n",
    "   B. Print the following values: The first value in the array, the final value in the array, and the range of 5th-8th values.\n",
    "\n",
    "   C. Append the numbers 10,001 and 10,002 (as floats) to the array. Make sure you define this!\n",
    "\n",
    "   D. Divide your new array by 2.\n",
    "\n",
    "   E. Reshape your array to be 3 x 4. \n",
    "\n",
    "   F. Multiply your array by itself.\n",
    "    \n",
    "   G.  Print out the number of dimensions and the maximum value."
   ]
  },
  {
   "cell_type": "code",
   "execution_count": 21,
   "metadata": {},
   "outputs": [
    {
     "name": "stdout",
     "output_type": "stream",
     "text": [
      "[1.00000000e-01 3.59381366e-01 1.29154967e+00 4.64158883e+00\n",
      " 1.66810054e+01 5.99484250e+01 2.15443469e+02 7.74263683e+02\n",
      " 2.78255940e+03 1.00000000e+04]\n",
      "0.1 10000.0 [ 59.94842503 215.443469   774.26368268]\n",
      "\n",
      "\n",
      "[1.00000000e-01 3.59381366e-01 1.29154967e+00 4.64158883e+00\n",
      " 1.66810054e+01 5.99484250e+01 2.15443469e+02 7.74263683e+02\n",
      " 2.78255940e+03 1.00000000e+04 1.00010000e+04 1.00020000e+04]\n",
      "\n",
      "\n",
      "[5.00000000e-02 1.79690683e-01 6.45774833e-01 2.32079442e+00\n",
      " 8.34050269e+00 2.99742125e+01 1.07721735e+02 3.87131841e+02\n",
      " 1.39127970e+03 5.00000000e+03 5.00050000e+03 5.00100000e+03]\n",
      "\n",
      "\n",
      "[[5.00000000e-02 1.79690683e-01 6.45774833e-01 2.32079442e+00]\n",
      " [8.34050269e+00 2.99742125e+01 1.07721735e+02 3.87131841e+02]\n",
      " [1.39127970e+03 5.00000000e+03 5.00050000e+03 5.00100000e+03]]\n",
      "\n",
      "\n",
      "[[2.50000000e-03 3.22887416e-02 4.17025134e-01 5.38608673e+00]\n",
      " [6.95639851e+01 8.98453416e+02 1.16039721e+04 1.49871063e+05]\n",
      " [1.93565921e+06 2.50000000e+07 2.50050002e+07 2.50100010e+07]]\n",
      "\n",
      "\n",
      "(3, 4)\n",
      "25010001.0\n"
     ]
    }
   ],
   "source": [
    "# your solution here\n",
    "logarray = np.logspace(-1, 4, 10)\n",
    "print(logarray)\n",
    "print\n",
    "\n",
    "first_value = logarray[0]\n",
    "final_value = logarray[-1]\n",
    "between_5_8 = logarray[5:8]\n",
    "print(first_value, final_value, between_5_8)\n",
    "print('\\n')\n",
    "\n",
    "i=10001\n",
    "j=10002\n",
    "i_float = float(i)\n",
    "j_float = float(j)\n",
    "appended_array = np.append(logarray, (i_float, j_float))\n",
    "print(appended_array)\n",
    "print(\"\\n\")\n",
    "\n",
    "appended_array_div_2 = appended_array / 2\n",
    "print(appended_array_div_2)\n",
    "print(\"\\n\")\n",
    "\n",
    "reshaped_array = np.reshape(appended_array_div_2,(3,4))\n",
    "print(reshaped_array)\n",
    "print(\"\\n\")\n",
    "\n",
    "multiplied_by_itself_array = reshaped_array * reshaped_array\n",
    "print(multiplied_by_itself_array)\n",
    "print(\"\\n\")\n",
    "\n",
    "print(multiplied_by_itself_array.shape)\n",
    "print(np.max(multiplied_by_itself_array))\n"
   ]
  },
  {
   "cell_type": "markdown",
   "metadata": {},
   "source": [
    "### Day 2"
   ]
  },
  {
   "cell_type": "markdown",
   "metadata": {},
   "source": [
    "#### Exercise 1\n",
    "\n",
    "   A. Create an array containing the values 4, 0, 6, 5, 11, 14, 12, 14, 5, 16.\n",
    "   B. Create a 10x2 array of zeros.\n",
    "   C. Write a for loop that checks if each of the numbers in the first array squared is less than 100. If the statement is true, change that row of your zeros array to equal the number and its square. Hint: you can change the value of an array by stating \"zerosarray[i] = [a number, a number squared]\". \n",
    "   D. Print out the final version of your zeros array.\n",
    "    \n",
    "Hint: should you loop over the elements of the array or the indices of the array?"
   ]
  },
  {
   "cell_type": "code",
   "execution_count": 22,
   "metadata": {},
   "outputs": [
    {
     "name": "stdout",
     "output_type": "stream",
     "text": [
      "[[ 4. 16.]\n",
      " [ 0.  0.]\n",
      " [ 6. 36.]\n",
      " [ 5. 25.]\n",
      " [ 0.  0.]\n",
      " [ 0.  0.]\n",
      " [ 0.  0.]\n",
      " [ 0.  0.]\n",
      " [ 5. 25.]\n",
      " [ 0.  0.]]\n"
     ]
    }
   ],
   "source": [
    "# your solutions here\n",
    "\n",
    "#A.\n",
    "array = np.array([4,0,6,5,11,14,12,14,5,16])\n",
    "\n",
    "#B.\n",
    "zeros_array = np.zeros((10,2))\n",
    "#print(zeros_array)\n",
    "#print('\\n')\n",
    "\n",
    "#for values in squared: #this is mostly just to see if it is working the way i want it to; it's not exactly relevant\n",
    "#    if values <100:\n",
    "#        print('yes!,', values)\n",
    "#    else:\n",
    "#        print('nope,',values)\n",
    "#print('\\n')\n",
    "\n",
    "#previous attempt at C. \n",
    "#squared = array*array\n",
    "#print(squared)\n",
    "#print('\\n')\n",
    "\n",
    "#for numbers in array: (this gives the right answer but not the correct way)\n",
    "#    if numbers**2<100:\n",
    "#        print(numbers,',',numbers**2)in zeros_array\n",
    "#    else:\n",
    "#        print(0,0)\n",
    "#print('\\n')\n",
    "\n",
    "#C.\n",
    "for i in range(len(array)):\n",
    "    if ((array[i])**2) < 100:\n",
    "        zeros_array[i] = [array[i], array[i]**2]\n",
    "\n",
    "\n",
    "#D.\n",
    "\n",
    "print(zeros_array)\n",
    "\n"
   ]
  },
  {
   "cell_type": "markdown",
   "metadata": {},
   "source": [
    "#### Exercise 2\n",
    "    \n",
    "   A. Write a function that takes an array of numbers and spits out the Gaussian distribution. Yes, there is a function for this in Python, but it's good to do this from scratch! This is the equation:\n",
    "    \n",
    "$$ f(x) = \\frac{1}{\\sigma \\sqrt{2\\pi}} \\exp{\\frac{-(x - \\mu)^2}{2\\sigma^2}} $$\n",
    "\n",
    "    (Pi is built into numpy, so call it as np.pi.)\n",
    "\n",
    "   B. Call the function a few different times for different values of mu and sigma, between -10 < x < 10.\n",
    "    \n",
    "   C. Plot each version, making sure they are differentiated with different colors and/or linestyles and include a legend. Btw, here's a list of the customizations available in matplotlib:\n",
    "    \n",
    "    https://matplotlib.org/3.1.0/api/_as_gen/matplotlib.pyplot.plot.html\n",
    "    \n",
    "    https://matplotlib.org/gallery/color/named_colors.html\n",
    "    \n",
    "   D. Save your figure.\n",
    "    \n",
    "If you have multiple lines with plt.plot(), Python will plot all of them together, unless you write plt.show() after each one. I want these all on one plot."
   ]
  },
  {
   "cell_type": "code",
   "execution_count": 45,
   "metadata": {},
   "outputs": [
    {
     "data": {
      "image/png": "[encoded data removed]",
      "text/plain": [
       "<Figure size 576x396 with 1 Axes>"
      ]
     },
     "metadata": {},
     "output_type": "display_data"
    }
   ],
   "source": [
    "# your solutions here\n",
    "\n",
    "'''\n",
    "trial 1\n",
    "\n",
    "#sigma = '\\u03C3'\n",
    "#mu = '\\u03BC'\n",
    "\n",
    "sigma1 = 2 \n",
    "sigma2 = 3\n",
    "sigma3 = 1\n",
    "mu1= 4 \n",
    "mu2 = 1\n",
    "mu3 = 3\n",
    "\n",
    "x = np.linspace(-10,10,100)\n",
    "\n",
    "pi = np.pi\n",
    "\n",
    "def function(sigma, mu, x):\n",
    "    first = (1/(sigma*np.sqrt(2*pi)))\n",
    "    second = (np.exp((((-(x-mu))**2)/(2*(sigma)**2))))\n",
    "    fx = (first)*(second)\n",
    "    return fx\n",
    "\n",
    "\n",
    "function(sigma1, mu1, x), function(sigma2, mu2, x), function(sigma3, mu3, x) \n",
    "\n",
    "\n",
    "\n",
    "#y = (1/(sigma1*np.sqrt(2*pi)))*(np.exp((((-(x-mu1))**2)/(2*(sigma1)**2))))\n",
    "#z = (1/(sigma2*np.sqrt(2*pi)))*(np.exp((((-(x-mu2))**2)/(2*(sigma2)**2))))\n",
    "#w = (1/(sigma3*np.sqrt(2*pi)))*(np.exp((((-(x-mu3))**2)/(2*(sigma3)**2))))\n",
    "\n",
    "plt.plot(x,(function(sigma1, mu1, x)))\n",
    "plt.plot(x,(function(sigma2, mu2, x)))\n",
    "plt.plot(x,(function(sigma3, mu3, x)))\n",
    "\n",
    "plt.show()\n",
    "'''\n",
    "\n",
    "def funct(x, sigma, mu):\n",
    "    first = 1/(sigma*np.sqrt(2*np.pi))\n",
    "    second = np.exp((-(x-mu)**2)/(2*sigma**2))\n",
    "    y = first*second\n",
    "    return y\n",
    "\n",
    "sigma1 = 2 \n",
    "sigma2 = 3\n",
    "sigma3 = 1\n",
    "mu1= 4 \n",
    "mu2 = 1\n",
    "mu3 = 3\n",
    "x=np.linspace(-10,10,200)\n",
    "\n",
    "fig = plt.figure()\n",
    "plt.style.use('seaborn')\n",
    "plt.plot(x, funct(x, sigma1, mu1),label='Graph 1')\n",
    "plt.plot(x, funct(x, sigma2, mu2),label='Graph 2')\n",
    "plt.plot(x, funct(x, sigma3, mu3),label='Graph 3')\n",
    "plt.legend(loc='best', frameon=True)\n",
    "plt.title('Exercise 2 Graphs')\n",
    "plt.xlabel('X-Axis')\n",
    "plt.ylabel('Y-Axis')\n",
    "fig.savefig('Exercise 2 Graphs.jpg')\n",
    "plt.show()\n"
   ]
  },
  {
   "cell_type": "markdown",
   "metadata": {},
   "source": [
    "### Day 3\n",
    "\n",
    "#### Exercise 1\n",
    "\n",
    "There is a file in this directory called \"histogram_exercise.dat\" which consists of of randomly generated samples from a Gaussian distribution with an unknown $\\mu$ and $\\sigma$. Using what you've learned about fitting data, load up this file using np.genfromtxt, fit a Gaussian curve to the data and plot both the curve and the histogram of the data. As always, label everything, play with the colors, and choose a judicious bin size. \n",
    "\n",
    "Hint: if you attempt to call a function from a library or package that hasn't been imported, you will get an error."
   ]
  },
  {
   "cell_type": "code",
   "execution_count": 24,
   "metadata": {},
   "outputs": [],
   "source": [
    "# your solution here"
   ]
  },
  {
   "cell_type": "markdown",
   "metadata": {},
   "source": [
    "#### Exercise 2\n",
    "\n",
    "Create a 1D interpolation along these arrays. Plot both the data (as points) and the interpolation (as a dotted line). Also plot the value of the interpolated function at x=325. What does the function look like to you?"
   ]
  },
  {
   "cell_type": "code",
   "execution_count": 25,
   "metadata": {},
   "outputs": [],
   "source": [
    "x = np.array([0., 50., 100., 150., 200., 250., 300., 350., 400., 450., 500])\n",
    "y = np.array([0., 7.071, 10., 12.247, 14.142, 15.811, 17.321, 18.708, 20., 21.213, 22.361])\n",
    "\n",
    "# solution here"
   ]
  },
  {
   "cell_type": "markdown",
   "metadata": {},
   "source": [
    "### Day 4\n",
    "\n",
    "#### Exercise 1\n",
    "\n",
    "Let's practice some more plotting skills, now incorporating units. \n",
    "\n",
    "A. Write a function that takes an array of frequencies and spits out the Planck distribution. That's this equation:\n",
    "\n",
    "$$ B(\\nu, T) = \\frac{2h\\nu^3/c^2}{e^{\\frac{h\\nu}{k_B T}} - 1} $$\n",
    "\n",
    "This requires you to use the Planck constant, the Boltzmann constant, and the speed of light from astropy. Make sure they are all in cgs. \n",
    "    \n",
    "B. Plot your function in log-log space for T = 25, 50, and 300 K. The most sensible frequency range is about 10^5 to 10^15 Hz. Hint: if your units are correct, your peak values of B(T) should be on the order of 10^-10. Make sure everything is labelled. "
   ]
  },
  {
   "cell_type": "code",
   "execution_count": 26,
   "metadata": {},
   "outputs": [],
   "source": [
    "# solution here"
   ]
  },
  {
   "cell_type": "markdown",
   "metadata": {},
   "source": [
    "#### Exercise 2\n",
    "\n",
    "Let's put everything together now! Here's a link to the full documentation for FITSFigure, which will tell you all of the customizable options: http://aplpy.readthedocs.io/en/stable/api/aplpy.FITSFigure.html. Let's create a nice plot of M51 with a background optical image and X-ray contours overplotted.\n",
    "\n",
    "The data came from here if you're interested: http://chandra.harvard.edu/photo/openFITS/multiwavelength_data.html\n",
    "\n",
    "A. Using astropy, open the X-RAY data (m51_xray.fits). Flatten the data array and find its standard deviation, and call it sigma.\n",
    "\n",
    "B. Using aplpy, plot a colorscale image of the OPTICAL data. Choose a colormap that is visually appealing (list of them here: https://matplotlib.org/2.0.2/examples/color/colormaps_reference.html). Show the colorbar. \n",
    "\n",
    "C. Plot the X-ray data as contours above the optical image. Make the contours spring green with 80% opacity and dotted lines. Make the levels go from 2$\\sigma$ to 10$\\sigma$ in steps of 2$\\sigma$. (It might be easier to define the levels array before show_contours, and set levels=levels.)"
   ]
  },
  {
   "cell_type": "code",
   "execution_count": 27,
   "metadata": {},
   "outputs": [],
   "source": [
    "# solution here"
   ]
  }
 ],
 "metadata": {
  "kernelspec": {
   "display_name": "Python 3",
   "language": "python",
   "name": "python3"
  },
  "language_info": {
   "codemirror_mode": {
    "name": "ipython",
    "version": 3
   },
   "file_extension": ".py",
   "mimetype": "text/x-python",
   "name": "python",
   "nbconvert_exporter": "python",
   "pygments_lexer": "ipython3",
   "version": "3.6.5"
  }
 },
 "nbformat": 4,
 "nbformat_minor": 2
}
